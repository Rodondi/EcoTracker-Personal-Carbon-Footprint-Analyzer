{
 "cells": [
  {
   "cell_type": "markdown",
   "metadata": {},
   "source": [
    "# 🌱 EcoTracker: Personal Carbon Footprint Analyzer\n",
    "This notebook-based version allows you to:\n",
    "- Log daily activities (transport, energy, diet)\n",
    "- Calculate carbon emissions using real-time API\n",
    "- Visualize emissions over time\n",
    "- Get random eco tips\n"
   ]
  },
  {
   "cell_type": "code",
   "execution_count": 1,
   "metadata": {},
   "outputs": [
    {
     "name": "stdout",
     "output_type": "stream",
     "text": [
      "Requirement already satisfied: Faker in c:\\users\\mollean\\anaconda3\\envs\\learn-env\\lib\\site-packages (35.2.2)\n",
      "Requirement already satisfied: requests in c:\\users\\mollean\\anaconda3\\envs\\learn-env\\lib\\site-packages (2.31.0)\n",
      "Requirement already satisfied: matplotlib in c:\\users\\mollean\\anaconda3\\envs\\learn-env\\lib\\site-packages (3.7.4)\n",
      "Collecting python-dotenv\n",
      "  Downloading python_dotenv-1.0.1-py3-none-any.whl (19 kB)\n",
      "Requirement already satisfied: typing-extensions in c:\\users\\mollean\\anaconda3\\envs\\learn-env\\lib\\site-packages (from Faker) (4.8.0)\n",
      "Requirement already satisfied: python-dateutil>=2.4 in c:\\users\\mollean\\anaconda3\\envs\\learn-env\\lib\\site-packages (from Faker) (2.8.1)\n",
      "Requirement already satisfied: urllib3<3,>=1.21.1 in c:\\users\\mollean\\anaconda3\\envs\\learn-env\\lib\\site-packages (from requests) (1.25.10)\n",
      "Requirement already satisfied: certifi>=2017.4.17 in c:\\users\\mollean\\anaconda3\\envs\\learn-env\\lib\\site-packages (from requests) (2023.7.22)\n",
      "Requirement already satisfied: charset-normalizer<4,>=2 in c:\\users\\mollean\\anaconda3\\envs\\learn-env\\lib\\site-packages (from requests) (3.3.2)\n",
      "Requirement already satisfied: idna<4,>=2.5 in c:\\users\\mollean\\anaconda3\\envs\\learn-env\\lib\\site-packages (from requests) (2.10)\n",
      "Requirement already satisfied: importlib-resources>=3.2.0; python_version < \"3.10\" in c:\\users\\mollean\\anaconda3\\envs\\learn-env\\lib\\site-packages (from matplotlib) (6.1.1)\n",
      "Requirement already satisfied: pillow>=6.2.0 in c:\\users\\mollean\\anaconda3\\envs\\learn-env\\lib\\site-packages (from matplotlib) (10.1.0)\n",
      "Requirement already satisfied: numpy<2,>=1.20 in c:\\users\\mollean\\anaconda3\\envs\\learn-env\\lib\\site-packages (from matplotlib) (1.24.4)\n",
      "Requirement already satisfied: pyparsing>=2.3.1 in c:\\users\\mollean\\anaconda3\\envs\\learn-env\\lib\\site-packages (from matplotlib) (2.4.7)\n",
      "Requirement already satisfied: cycler>=0.10 in c:\\users\\mollean\\anaconda3\\envs\\learn-env\\lib\\site-packages (from matplotlib) (0.10.0)\n",
      "Requirement already satisfied: contourpy>=1.0.1 in c:\\users\\mollean\\anaconda3\\envs\\learn-env\\lib\\site-packages (from matplotlib) (1.1.1)\n",
      "Requirement already satisfied: fonttools>=4.22.0 in c:\\users\\mollean\\anaconda3\\envs\\learn-env\\lib\\site-packages (from matplotlib) (4.45.1)\n",
      "Requirement already satisfied: kiwisolver>=1.0.1 in c:\\users\\mollean\\anaconda3\\envs\\learn-env\\lib\\site-packages (from matplotlib) (1.2.0)\n",
      "Requirement already satisfied: packaging>=20.0 in c:\\users\\mollean\\anaconda3\\envs\\learn-env\\lib\\site-packages (from matplotlib) (23.2)\n",
      "Requirement already satisfied: six>=1.5 in c:\\users\\mollean\\anaconda3\\envs\\learn-env\\lib\\site-packages (from python-dateutil>=2.4->Faker) (1.15.0)\n",
      "Requirement already satisfied: zipp>=3.1.0; python_version < \"3.10\" in c:\\users\\mollean\\anaconda3\\envs\\learn-env\\lib\\site-packages (from importlib-resources>=3.2.0; python_version < \"3.10\"->matplotlib) (3.3.0)\n",
      "Installing collected packages: python-dotenv\n",
      "Successfully installed python-dotenv-1.0.1\n"
     ]
    }
   ],
   "source": [
    "# 📦 Install dependencies (if not already installed)\n",
    "!pip install Faker requests matplotlib python-dotenv"
   ]
  },
  {
   "cell_type": "code",
   "execution_count": null,
   "metadata": {},
   "outputs": [],
   "source": [
    "# ✅ Imports & setup\n",
    "from faker import Faker\n",
    "import matplotlib.pyplot as plt\n",
    "from datetime import datetime\n",
    "import requests, sqlite3, os\n",
    "from dotenv import load_dotenv\n",
    "load_dotenv()\n",
    "fake = Faker()\n",
    "DB_PATH = 'eco_tracker.db'"
   ]
  },
  {
   "cell_type": "code",
   "execution_count": null,
   "metadata": {},
   "outputs": [],
   "source": [
    "# 🔧 Setup SQLite database\n",
    "def setup_database():\n",
    "    conn = sqlite3.connect(DB_PATH)\n",
    "    cursor = conn.cursor()\n",
    "    cursor.execute('''\n",
    "        CREATE TABLE IF NOT EXISTS logs (\n",
    "            id INTEGER PRIMARY KEY AUTOINCREMENT,\n",
    "            date TEXT,\n",
    "            transport_km REAL,\n",
    "            electricity_kwh REAL,\n",
    "            diet TEXT\n",
    "        )\n",
    "    ''')\n",
    "    conn.commit()\n",
    "    conn.close()\n",
    "setup_database()"
   ]
  },
  {
   "cell_type": "code",
   "execution_count": null,
   "metadata": {},
   "outputs": [],
   "source": [
    "# 🔗 Carbon Interface API integration\n",
    "API_KEY = os.getenv(\"CARBON_INTERFACE_API_KEY\")\n",
    "HEADERS = {\n",
    "    \"Authorization\": f\"Bearer {API_KEY}\",\n",
    "    \"Content-Type\": \"application/json\"\n",
    "}\n",
    "BASE_URL = \"https://www.carboninterface.com/api/v1/estimates\"\n",
    "\n",
    "def calculate_transport_emission(km):\n",
    "    try:\n",
    "        data = {\n",
    "            \"type\": \"vehicle\",\n",
    "            \"distance_unit\": \"km\",\n",
    "            \"distance_value\": km,\n",
    "            \"vehicle_model_id\": \"f1e43e3d-7d5e-426f-84a5-1559f4a7dbe0\"\n",
    "        }\n",
    "        response = requests.post(BASE_URL, headers=HEADERS, json=data)\n",
    "        return response.json()[\"data\"][\"attributes\"][\"carbon_kg\"]\n",
    "    except:\n",
    "        return km * 0.21\n",
    "\n",
    "def calculate_energy_emission(kwh):\n",
    "    try:\n",
    "        data = {\n",
    "            \"type\": \"electricity\",\n",
    "            \"electricity_unit\": \"kwh\",\n",
    "            \"electricity_value\": kwh,\n",
    "            \"country\": \"us\"\n",
    "        }\n",
    "        response = requests.post(BASE_URL, headers=HEADERS, json=data)\n",
    "        return response.json()[\"data\"][\"attributes\"][\"carbon_kg\"]\n",
    "    except:\n",
    "        return kwh * 0.5"
   ]
  },
  {
   "cell_type": "code",
   "execution_count": null,
   "metadata": {},
   "outputs": [],
   "source": [
    "# ✍️ Log daily activity\n",
    "def log_activity():\n",
    "    transport_km = float(input(\"Enter km traveled today: \"))\n",
    "    electricity_kwh = float(input(\"Enter kWh used today: \"))\n",
    "    diet = input(\"Diet type (vegan/vegetarian/mixed/meat-heavy): \")\n",
    "\n",
    "    co2_transport = calculate_transport_emission(transport_km)\n",
    "    co2_energy = calculate_energy_emission(electricity_kwh)\n",
    "\n",
    "    conn = sqlite3.connect(DB_PATH)\n",
    "    cursor = conn.cursor()\n",
    "    cursor.execute(\"INSERT INTO logs (date, transport_km, electricity_kwh, diet) VALUES (?, ?, ?, ?)\",\n",
    "                   (datetime.now().isoformat(), transport_km, electricity_kwh, diet))\n",
    "    conn.commit()\n",
    "    conn.close()\n",
    "\n",
    "    print(f\"Transport CO2: {co2_transport:.2f} kg, Electricity CO2: {co2_energy:.2f} kg\")"
   ]
  },
  {
   "cell_type": "code",
   "execution_count": null,
   "metadata": {},
   "outputs": [],
   "source": [
    "# 📊 Generate carbon emission report\n",
    "def generate_report():\n",
    "    conn = sqlite3.connect(DB_PATH)\n",
    "    cursor = conn.cursor()\n",
    "    cursor.execute(\"SELECT date, transport_km, electricity_kwh, diet FROM logs\")\n",
    "    rows = cursor.fetchall()\n",
    "    conn.close()\n",
    "\n",
    "    if not rows:\n",
    "        print(\"No data logged yet.\")\n",
    "        return\n",
    "\n",
    "    dates, emissions = [], []\n",
    "    for row in rows:\n",
    "        date, t_km, e_kwh, diet = row\n",
    "        total = t_km * 0.21 + e_kwh * 0.5\n",
    "        total += 5 if diet == 'meat-heavy' else 3 if diet == 'mixed' else 2 if diet == 'vegetarian' else 1\n",
    "        dates.append(date[:10])\n",
    "        emissions.append(total)\n",
    "\n",
    "    plt.plot(dates, emissions, marker='o')\n",
    "    plt.title(\"CO2 Emissions Over Time\")\n",
    "    plt.xlabel(\"Date\")\n",
    "    plt.ylabel(\"Emissions (kg)\")\n",
    "    plt.xticks(rotation=45)\n",
    "    plt.tight_layout()\n",
    "    plt.show()"
   ]
  },
  {
   "cell_type": "code",
   "execution_count": null,
   "metadata": {},
   "outputs": [],
   "source": [
    "# 🌿 Eco Tip Generator\n",
    "def get_eco_tip():\n",
    "    return fake.catch_phrase()\n",
    "\n",
    "print(\"Eco Tip:\", get_eco_tip())"
   ]
  }
 ],
 "metadata": {
  "kernelspec": {
   "display_name": "Python 3",
   "language": "python",
   "name": "python3"
  },
  "language_info": {
   "codemirror_mode": {
    "name": "ipython",
    "version": 3
   },
   "file_extension": ".py",
   "mimetype": "text/x-python",
   "name": "python",
   "nbconvert_exporter": "python",
   "pygments_lexer": "ipython3",
   "version": "3.8.5"
  }
 },
 "nbformat": 4,
 "nbformat_minor": 5
}
